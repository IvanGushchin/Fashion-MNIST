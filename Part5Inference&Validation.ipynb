{
 "cells": [
  {
   "cell_type": "markdown",
   "metadata": {},
   "source": [
    "# Network with arbitrary hidden layers"
   ]
  },
  {
   "cell_type": "code",
   "execution_count": 3,
   "metadata": {},
   "outputs": [],
   "source": [
    "%matplotlib inline\n",
    "%config InlineBackend.figure_format = 'retina'\n",
    "\n",
    "import matplotlib.pyplot as plt\n",
    "import numpy as np\n",
    "import time\n",
    "\n",
    "import torch\n",
    "from torch import nn\n",
    "from torch import optim\n",
    "import torch.nn.functional as F\n",
    "from torchvision import datasets, transforms\n",
    "\n",
    "import helper"
   ]
  },
  {
   "cell_type": "code",
   "execution_count": 4,
   "metadata": {},
   "outputs": [],
   "source": [
    "# Define a transform to normalize the data\n",
    "transform = transforms.Compose([transforms.ToTensor(),\n",
    "                                transforms.Normalize([0.5], [0.5], inplace=True)])\n",
    "# Download and load the training data\n",
    "trainset = datasets.FashionMNIST('F_MNIST_data/', download=True, train=True, transform=transform)\n",
    "trainloader = torch.utils.data.DataLoader(trainset, batch_size=64, shuffle=True)\n",
    "\n",
    "# Download and load the test data\n",
    "testset = datasets.FashionMNIST('F_MNIST_data/', download=True, train=False, transform=transform)\n",
    "testloader = torch.utils.data.DataLoader(testset, batch_size=64, shuffle=True)"
   ]
  },
  {
   "cell_type": "code",
   "execution_count": 5,
   "metadata": {},
   "outputs": [],
   "source": [
    "class MyNetwork(nn.Module):\n",
    "    \n",
    "    def __init__(self, input_size, output_size, hidden_layers, drop_prob =0.5):\n",
    "        ''' Builds a feedforward network with arbitrary hidden layers.\n",
    "        \n",
    "            Arguments\n",
    "            ---------\n",
    "            input_size: integer, size of the input\n",
    "            output_size: integer, size of the output layer\n",
    "            hidden_layers: list of integers, the sizes of the hidden layers\n",
    "            drop_p: float between 0 and 1, dropout probability\n",
    "        '''\n",
    "        # super() calls super classe's constructor so nn.Module constructor here\n",
    "        super().__init__()\n",
    "        \n",
    "        # Add the first layer = input => first hidden layer, then extend to other layers\n",
    "        self.hidden_layers = nn.ModuleList([nn.Linear(input_size, hidden_layers[0])])\n",
    "        layer_sizes = zip(hidden_layers[:-1], hidden_layers[1:])\n",
    "        self.hidden_layers.extend([nn.Linear(hl1,hl2) for (hl1,hl2) in layer_sizes])\n",
    "        self.output = nn.Linear(hidden_layers[-1],output_size)\n",
    "\n",
    "        # Set dropout probability\n",
    "        self.dropout = nn.Dropout(p=drop_prob)\n",
    "        \n",
    "    def forward(self, x):\n",
    "        ''' Forward pass through the network, returns the output logits '''\n",
    "        # Forward pass with ReLU and dropout \n",
    "        for linear in self.hidden_layers:\n",
    "            x = F.relu(linear(x))\n",
    "            x = self.dropout(x)\n",
    "            \n",
    "        x = self.output(x)\n",
    "        return F.log_softmax(x, dim=1)"
   ]
  },
  {
   "cell_type": "code",
   "execution_count": 6,
   "metadata": {},
   "outputs": [],
   "source": [
    "# Create network, criterion and optimizer\n",
    "model = MyNetwork(784, 10, [512,256,128], drop_prob=0.5)\n",
    "criterion = nn.NLLLoss()\n",
    "optimizer = optim.Adam(model.parameters(), lr=0.001)"
   ]
  },
  {
   "cell_type": "code",
   "execution_count": 7,
   "metadata": {},
   "outputs": [],
   "source": [
    "# Implement function for validation pass\n",
    "def validation(model, testloader, criterion):\n",
    "    test_loss = 0\n",
    "    accuracy = 0\n",
    "    for images, labels in testloader:\n",
    "        images.resize_(images.shape[0], 784)\n",
    "        \n",
    "        # one batch is processed\n",
    "        output = model.forward(images)\n",
    "        # loss is computed\n",
    "        test_loss += criterion(output, labels).item()\n",
    "        \n",
    "        # we inverse log to get probabilities\n",
    "        probabilities = torch.exp(output)\n",
    "        # probabililites.max() outputs 2-element array,\n",
    "        # first element = array of length 64 with highest probabilities for each sample\n",
    "        # second element = array of length 64 with according indexes of those probabilities\n",
    "        # e.g if for the 1st image in batch the highest probabiliy was for class 4 we get \n",
    "        # index 4-1 = 3\n",
    "        equality = (labels.data == probabilities.max(dim=1)[1])\n",
    "        accuracy += equality.type(torch.FloatTensor).mean()\n",
    "    return test_loss, accuracy"
   ]
  },
  {
   "cell_type": "code",
   "execution_count": 8,
   "metadata": {},
   "outputs": [
    {
     "name": "stdout",
     "output_type": "stream",
     "text": [
      "Epoch: 1/5 Training Loss: 1.727 Test Loss: 0.978 Test Accuracy: 0.657\n",
      "Epoch: 1/5 Training Loss: 1.014 Test Loss: 0.756 Test Accuracy: 0.705\n",
      "Epoch: 1/5 Training Loss: 0.928 Test Loss: 0.685 Test Accuracy: 0.739\n",
      "Epoch: 1/5 Training Loss: 0.802 Test Loss: 0.642 Test Accuracy: 0.747\n",
      "Epoch: 1/5 Training Loss: 0.726 Test Loss: 0.651 Test Accuracy: 0.747\n",
      "Epoch: 1/5 Training Loss: 0.720 Test Loss: 0.609 Test Accuracy: 0.763\n",
      "Epoch: 1/5 Training Loss: 0.691 Test Loss: 0.576 Test Accuracy: 0.781\n",
      "Epoch: 1/5 Training Loss: 0.721 Test Loss: 0.572 Test Accuracy: 0.791\n",
      "Epoch: 1/5 Training Loss: 0.672 Test Loss: 0.561 Test Accuracy: 0.793\n",
      "Epoch: 1/5 Training Loss: 0.671 Test Loss: 0.558 Test Accuracy: 0.787\n",
      "Epoch: 1/5 Training Loss: 0.613 Test Loss: 0.547 Test Accuracy: 0.801\n",
      "Epoch: 1/5 Training Loss: 0.637 Test Loss: 0.560 Test Accuracy: 0.798\n",
      "Epoch: 1/5 Training Loss: 0.630 Test Loss: 0.528 Test Accuracy: 0.805\n",
      "Epoch: 1/5 Training Loss: 0.610 Test Loss: 0.531 Test Accuracy: 0.808\n",
      "Epoch: 1/5 Training Loss: 0.619 Test Loss: 0.516 Test Accuracy: 0.806\n",
      "Epoch: 1/5 Training Loss: 0.559 Test Loss: 0.502 Test Accuracy: 0.818\n",
      "Epoch: 1/5 Training Loss: 0.590 Test Loss: 0.494 Test Accuracy: 0.817\n",
      "Epoch: 1/5 Training Loss: 0.584 Test Loss: 0.491 Test Accuracy: 0.821\n",
      "Epoch: 1/5 Training Loss: 0.593 Test Loss: 0.511 Test Accuracy: 0.819\n",
      "Epoch: 1/5 Training Loss: 0.576 Test Loss: 0.493 Test Accuracy: 0.818\n",
      "Epoch: 1/5 Training Loss: 0.594 Test Loss: 0.482 Test Accuracy: 0.817\n",
      "Epoch: 1/5 Training Loss: 0.548 Test Loss: 0.488 Test Accuracy: 0.820\n",
      "Epoch: 1/5 Training Loss: 0.541 Test Loss: 0.485 Test Accuracy: 0.821\n",
      "Epoch: 2/5 Training Loss: 0.333 Test Loss: 0.498 Test Accuracy: 0.821\n",
      "Epoch: 2/5 Training Loss: 0.545 Test Loss: 0.504 Test Accuracy: 0.818\n",
      "Epoch: 2/5 Training Loss: 0.563 Test Loss: 0.471 Test Accuracy: 0.826\n",
      "Epoch: 2/5 Training Loss: 0.554 Test Loss: 0.479 Test Accuracy: 0.826\n",
      "Epoch: 2/5 Training Loss: 0.571 Test Loss: 0.477 Test Accuracy: 0.826\n",
      "Epoch: 2/5 Training Loss: 0.543 Test Loss: 0.484 Test Accuracy: 0.822\n",
      "Epoch: 2/5 Training Loss: 0.547 Test Loss: 0.456 Test Accuracy: 0.828\n",
      "Epoch: 2/5 Training Loss: 0.513 Test Loss: 0.459 Test Accuracy: 0.831\n",
      "Epoch: 2/5 Training Loss: 0.535 Test Loss: 0.482 Test Accuracy: 0.818\n",
      "Epoch: 2/5 Training Loss: 0.550 Test Loss: 0.457 Test Accuracy: 0.832\n",
      "Epoch: 2/5 Training Loss: 0.507 Test Loss: 0.463 Test Accuracy: 0.829\n",
      "Epoch: 2/5 Training Loss: 0.559 Test Loss: 0.457 Test Accuracy: 0.837\n",
      "Epoch: 2/5 Training Loss: 0.505 Test Loss: 0.468 Test Accuracy: 0.833\n",
      "Epoch: 2/5 Training Loss: 0.533 Test Loss: 0.450 Test Accuracy: 0.835\n",
      "Epoch: 2/5 Training Loss: 0.525 Test Loss: 0.460 Test Accuracy: 0.834\n",
      "Epoch: 2/5 Training Loss: 0.526 Test Loss: 0.446 Test Accuracy: 0.836\n",
      "Epoch: 2/5 Training Loss: 0.544 Test Loss: 0.446 Test Accuracy: 0.834\n",
      "Epoch: 2/5 Training Loss: 0.506 Test Loss: 0.466 Test Accuracy: 0.837\n",
      "Epoch: 2/5 Training Loss: 0.516 Test Loss: 0.455 Test Accuracy: 0.837\n",
      "Epoch: 2/5 Training Loss: 0.527 Test Loss: 0.442 Test Accuracy: 0.837\n",
      "Epoch: 2/5 Training Loss: 0.492 Test Loss: 0.435 Test Accuracy: 0.839\n",
      "Epoch: 2/5 Training Loss: 0.503 Test Loss: 0.442 Test Accuracy: 0.841\n",
      "Epoch: 2/5 Training Loss: 0.520 Test Loss: 0.457 Test Accuracy: 0.832\n",
      "Epoch: 3/5 Training Loss: 0.046 Test Loss: 0.434 Test Accuracy: 0.846\n",
      "Epoch: 3/5 Training Loss: 0.525 Test Loss: 0.438 Test Accuracy: 0.838\n",
      "Epoch: 3/5 Training Loss: 0.497 Test Loss: 0.428 Test Accuracy: 0.845\n",
      "Epoch: 3/5 Training Loss: 0.523 Test Loss: 0.426 Test Accuracy: 0.849\n",
      "Epoch: 3/5 Training Loss: 0.493 Test Loss: 0.451 Test Accuracy: 0.837\n",
      "Epoch: 3/5 Training Loss: 0.517 Test Loss: 0.428 Test Accuracy: 0.844\n",
      "Epoch: 3/5 Training Loss: 0.457 Test Loss: 0.437 Test Accuracy: 0.839\n",
      "Epoch: 3/5 Training Loss: 0.510 Test Loss: 0.444 Test Accuracy: 0.839\n",
      "Epoch: 3/5 Training Loss: 0.515 Test Loss: 0.428 Test Accuracy: 0.839\n",
      "Epoch: 3/5 Training Loss: 0.511 Test Loss: 0.458 Test Accuracy: 0.835\n",
      "Epoch: 3/5 Training Loss: 0.480 Test Loss: 0.434 Test Accuracy: 0.842\n",
      "Epoch: 3/5 Training Loss: 0.488 Test Loss: 0.439 Test Accuracy: 0.841\n",
      "Epoch: 3/5 Training Loss: 0.489 Test Loss: 0.421 Test Accuracy: 0.847\n",
      "Epoch: 3/5 Training Loss: 0.459 Test Loss: 0.438 Test Accuracy: 0.836\n",
      "Epoch: 3/5 Training Loss: 0.505 Test Loss: 0.425 Test Accuracy: 0.843\n",
      "Epoch: 3/5 Training Loss: 0.469 Test Loss: 0.420 Test Accuracy: 0.851\n",
      "Epoch: 3/5 Training Loss: 0.438 Test Loss: 0.429 Test Accuracy: 0.847\n",
      "Epoch: 3/5 Training Loss: 0.493 Test Loss: 0.425 Test Accuracy: 0.846\n",
      "Epoch: 3/5 Training Loss: 0.475 Test Loss: 0.431 Test Accuracy: 0.841\n",
      "Epoch: 3/5 Training Loss: 0.495 Test Loss: 0.434 Test Accuracy: 0.837\n",
      "Epoch: 3/5 Training Loss: 0.470 Test Loss: 0.413 Test Accuracy: 0.848\n",
      "Epoch: 3/5 Training Loss: 0.512 Test Loss: 0.420 Test Accuracy: 0.849\n",
      "Epoch: 3/5 Training Loss: 0.496 Test Loss: 0.418 Test Accuracy: 0.849\n",
      "Epoch: 3/5 Training Loss: 0.504 Test Loss: 0.426 Test Accuracy: 0.849\n",
      "Epoch: 4/5 Training Loss: 0.307 Test Loss: 0.422 Test Accuracy: 0.846\n",
      "Epoch: 4/5 Training Loss: 0.450 Test Loss: 0.433 Test Accuracy: 0.841\n",
      "Epoch: 4/5 Training Loss: 0.451 Test Loss: 0.429 Test Accuracy: 0.844\n",
      "Epoch: 4/5 Training Loss: 0.473 Test Loss: 0.413 Test Accuracy: 0.853\n",
      "Epoch: 4/5 Training Loss: 0.471 Test Loss: 0.432 Test Accuracy: 0.847\n",
      "Epoch: 4/5 Training Loss: 0.492 Test Loss: 0.417 Test Accuracy: 0.849\n",
      "Epoch: 4/5 Training Loss: 0.442 Test Loss: 0.419 Test Accuracy: 0.850\n",
      "Epoch: 4/5 Training Loss: 0.500 Test Loss: 0.413 Test Accuracy: 0.848\n",
      "Epoch: 4/5 Training Loss: 0.512 Test Loss: 0.418 Test Accuracy: 0.850\n",
      "Epoch: 4/5 Training Loss: 0.475 Test Loss: 0.414 Test Accuracy: 0.847\n",
      "Epoch: 4/5 Training Loss: 0.499 Test Loss: 0.418 Test Accuracy: 0.845\n",
      "Epoch: 4/5 Training Loss: 0.464 Test Loss: 0.416 Test Accuracy: 0.851\n",
      "Epoch: 4/5 Training Loss: 0.453 Test Loss: 0.405 Test Accuracy: 0.850\n",
      "Epoch: 4/5 Training Loss: 0.467 Test Loss: 0.401 Test Accuracy: 0.850\n",
      "Epoch: 4/5 Training Loss: 0.503 Test Loss: 0.408 Test Accuracy: 0.853\n",
      "Epoch: 4/5 Training Loss: 0.435 Test Loss: 0.411 Test Accuracy: 0.851\n",
      "Epoch: 4/5 Training Loss: 0.505 Test Loss: 0.407 Test Accuracy: 0.852\n",
      "Epoch: 4/5 Training Loss: 0.464 Test Loss: 0.414 Test Accuracy: 0.850\n",
      "Epoch: 4/5 Training Loss: 0.471 Test Loss: 0.408 Test Accuracy: 0.856\n",
      "Epoch: 4/5 Training Loss: 0.477 Test Loss: 0.406 Test Accuracy: 0.856\n",
      "Epoch: 4/5 Training Loss: 0.449 Test Loss: 0.403 Test Accuracy: 0.855\n",
      "Epoch: 4/5 Training Loss: 0.483 Test Loss: 0.418 Test Accuracy: 0.850\n",
      "Epoch: 4/5 Training Loss: 0.459 Test Loss: 0.420 Test Accuracy: 0.848\n",
      "Epoch: 5/5 Training Loss: 0.083 Test Loss: 0.411 Test Accuracy: 0.850\n",
      "Epoch: 5/5 Training Loss: 0.473 Test Loss: 0.418 Test Accuracy: 0.848\n",
      "Epoch: 5/5 Training Loss: 0.459 Test Loss: 0.405 Test Accuracy: 0.850\n",
      "Epoch: 5/5 Training Loss: 0.449 Test Loss: 0.403 Test Accuracy: 0.853\n",
      "Epoch: 5/5 Training Loss: 0.418 Test Loss: 0.421 Test Accuracy: 0.852\n",
      "Epoch: 5/5 Training Loss: 0.480 Test Loss: 0.403 Test Accuracy: 0.854\n",
      "Epoch: 5/5 Training Loss: 0.427 Test Loss: 0.396 Test Accuracy: 0.854\n",
      "Epoch: 5/5 Training Loss: 0.450 Test Loss: 0.402 Test Accuracy: 0.852\n",
      "Epoch: 5/5 Training Loss: 0.443 Test Loss: 0.393 Test Accuracy: 0.857\n",
      "Epoch: 5/5 Training Loss: 0.443 Test Loss: 0.410 Test Accuracy: 0.848\n",
      "Epoch: 5/5 Training Loss: 0.452 Test Loss: 0.428 Test Accuracy: 0.844\n",
      "Epoch: 5/5 Training Loss: 0.514 Test Loss: 0.419 Test Accuracy: 0.852\n",
      "Epoch: 5/5 Training Loss: 0.476 Test Loss: 0.398 Test Accuracy: 0.850\n",
      "Epoch: 5/5 Training Loss: 0.436 Test Loss: 0.392 Test Accuracy: 0.856\n",
      "Epoch: 5/5 Training Loss: 0.436 Test Loss: 0.410 Test Accuracy: 0.850\n",
      "Epoch: 5/5 Training Loss: 0.443 Test Loss: 0.403 Test Accuracy: 0.853\n",
      "Epoch: 5/5 Training Loss: 0.464 Test Loss: 0.405 Test Accuracy: 0.856\n",
      "Epoch: 5/5 Training Loss: 0.477 Test Loss: 0.405 Test Accuracy: 0.856\n",
      "Epoch: 5/5 Training Loss: 0.454 Test Loss: 0.397 Test Accuracy: 0.857\n",
      "Epoch: 5/5 Training Loss: 0.462 Test Loss: 0.402 Test Accuracy: 0.848\n",
      "Epoch: 5/5 Training Loss: 0.453 Test Loss: 0.412 Test Accuracy: 0.848\n",
      "Epoch: 5/5 Training Loss: 0.472 Test Loss: 0.397 Test Accuracy: 0.856\n",
      "Epoch: 5/5 Training Loss: 0.442 Test Loss: 0.407 Test Accuracy: 0.849\n",
      "Epoch: 5/5 Training Loss: 0.436 Test Loss: 0.398 Test Accuracy: 0.858\n"
     ]
    }
   ],
   "source": [
    "# Training network\n",
    "epochs = 5\n",
    "steps = 0\n",
    "running_loss = 0\n",
    "print_every = 40\n",
    "for epoch in range(epochs):\n",
    "    running_loss = 0\n",
    "    for images, labels in trainloader:\n",
    "        steps += 1\n",
    "        \n",
    "        # Flatt image\n",
    "        images.resize_(images.shape[0], 784)\n",
    "        # Zero-out optimizer\n",
    "        optimizer.zero_grad()\n",
    "        \n",
    "        # forward pass and backpropagation\n",
    "        output = model.forward(images)\n",
    "        loss = criterion(output, labels)\n",
    "        loss.backward()\n",
    "        optimizer.step()\n",
    "        \n",
    "        running_loss += loss.item()\n",
    "        \n",
    "        if steps % print_every == 0:\n",
    "            # Put network into eval mode => dropout is turned off\n",
    "            model.eval()\n",
    "            # Turn of gradients also\n",
    "            with torch.no_grad():\n",
    "                test_loss , accuracy = validation(model, testloader, criterion)\n",
    "            \n",
    "            print(f\"Epoch: {epoch+1}/{epochs}\",\n",
    "                 f\"Training Loss: {(running_loss/print_every):.3f}\",\n",
    "                 f\"Test Loss: {(test_loss/len(testloader)):.3f}\",\n",
    "                 f\"Test Accuracy: {(accuracy/len(testloader)):.3f}\")\n",
    "            running_loss = 0\n",
    "            \n",
    "            # Get back to the train mode\n",
    "            model.train()"
   ]
  },
  {
   "cell_type": "code",
   "execution_count": 25,
   "metadata": {},
   "outputs": [
    {
     "name": "stdout",
     "output_type": "stream",
     "text": [
      "torch.Size([1, 784]) <class 'torch.Tensor'>\n",
      "tensor(2)\n"
     ]
    },
    {
     "data": {
      "image/png": "[encoded data removed]",
      "text/plain": [
       "<Figure size 432x648 with 2 Axes>"
      ]
     },
     "metadata": {
      "image/png": {
       "height": 206,
       "width": 423
      },
      "needs_background": "light"
     },
     "output_type": "display_data"
    }
   ],
   "source": [
    "# evaluation\n",
    "# put model into eval mode\n",
    "model.eval()\n",
    "\n",
    "dataiter = iter(testloader)\n",
    "images , labels = dataiter.next()\n",
    "# extract first image\n",
    "img = images[11]\n",
    "# conver to vector\n",
    "img = img.view(1,784)\n",
    "print(img.shape, type(img))\n",
    "\n",
    "# Calculate class probabilities\n",
    "with torch.no_grad():\n",
    "    output = model.forward(img)\n",
    "probabilities = torch.exp(output)\n",
    "\n",
    "# Plot the image and probabilities\n",
    "helper.view_classify(img.view(1,28,28), probabilities, version=\"Fashion\")\n",
    "print(labels[11])"
   ]
  },
  {
   "cell_type": "markdown",
   "metadata": {},
   "source": [
    "# Saving and loading models for further training/usage"
   ]
  },
  {
   "cell_type": "markdown",
   "metadata": {},
   "source": [
    "#### PyTorch networks are storing parameters in `state_dict`. There we can see weigh and bias matrices for every layer present in network"
   ]
  },
  {
   "cell_type": "code",
   "execution_count": 11,
   "metadata": {},
   "outputs": [
    {
     "name": "stdout",
     "output_type": "stream",
     "text": [
      "Our model: \n",
      "\n",
      " MyNetwork(\n",
      "  (hidden_layers): ModuleList(\n",
      "    (0): Linear(in_features=784, out_features=512, bias=True)\n",
      "    (1): Linear(in_features=512, out_features=256, bias=True)\n",
      "    (2): Linear(in_features=256, out_features=128, bias=True)\n",
      "  )\n",
      "  (output): Linear(in_features=128, out_features=10, bias=True)\n",
      "  (dropout): Dropout(p=0.5)\n",
      ") \n",
      "\n",
      "The state dict keys: \n",
      "\n",
      " odict_keys(['hidden_layers.0.weight', 'hidden_layers.0.bias', 'hidden_layers.1.weight', 'hidden_layers.1.bias', 'hidden_layers.2.weight', 'hidden_layers.2.bias', 'output.weight', 'output.bias'])\n"
     ]
    }
   ],
   "source": [
    "print(\"Our model: \\n\\n\", model, '\\n')\n",
    "print(\"The state dict keys: \\n\\n\", model.state_dict().keys())"
   ]
  },
  {
   "cell_type": "markdown",
   "metadata": {},
   "source": [
    "#### The simplest way to save a model is to just save `state_dict`"
   ]
  },
  {
   "cell_type": "code",
   "execution_count": 12,
   "metadata": {},
   "outputs": [],
   "source": [
    "torch.save(model.state_dict(), \"checkpoint.pth\")"
   ]
  },
  {
   "cell_type": "markdown",
   "metadata": {},
   "source": [
    "#### To load it just do..."
   ]
  },
  {
   "cell_type": "code",
   "execution_count": 14,
   "metadata": {},
   "outputs": [
    {
     "name": "stdout",
     "output_type": "stream",
     "text": [
      "odict_keys(['hidden_layers.0.weight', 'hidden_layers.0.bias', 'hidden_layers.1.weight', 'hidden_layers.1.bias', 'hidden_layers.2.weight', 'hidden_layers.2.bias', 'output.weight', 'output.bias'])\n"
     ]
    }
   ],
   "source": [
    "# load previosly saved dictionary\n",
    "state_dict = torch.load(\"checkpoint.pth\")\n",
    "# load dict into the network\n",
    "model.load_state_dict(state_dict)\n",
    "print(state_dict.keys())"
   ]
  },
  {
   "cell_type": "markdown",
   "metadata": {},
   "source": [
    "#### ... but there is one more thing. Loading state dict work only if the model architecture is exacly the same as the checkpoint dictionary. So we need to save also model architecture in order to be able to rebuild it"
   ]
  },
  {
   "cell_type": "code",
   "execution_count": 24,
   "metadata": {},
   "outputs": [],
   "source": [
    "checkpoint = {'input_size' : 784,\n",
    "             'output_size' : 10,\n",
    "             'hidden_layers' : [layer.out_features for layer in model.hidden_layers],\n",
    "             'state_dict' : model.state_dict()}\n",
    "torch.save(checkpoint, \"checkpoint.pth\")"
   ]
  },
  {
   "cell_type": "markdown",
   "metadata": {},
   "source": [
    "#### Function for loading and setting-up the model"
   ]
  },
  {
   "cell_type": "code",
   "execution_count": 26,
   "metadata": {},
   "outputs": [],
   "source": [
    "def load_checkpoint_set_model(path):\n",
    "    checkpoint = torch.load(path)\n",
    "    model = MyNetwork(checkpoint['input_size'],\n",
    "                     checkpoint['output_size'],\n",
    "                     checkpoint['hidden_layers'])\n",
    "    model.load_state_dict(checkpoint['state_dict'])\n",
    "    return model"
   ]
  },
  {
   "cell_type": "code",
   "execution_count": 29,
   "metadata": {},
   "outputs": [
    {
     "name": "stdout",
     "output_type": "stream",
     "text": [
      "MyNetwork(\n",
      "  (hidden_layers): ModuleList(\n",
      "    (0): Linear(in_features=784, out_features=512, bias=True)\n",
      "    (1): Linear(in_features=512, out_features=256, bias=True)\n",
      "    (2): Linear(in_features=256, out_features=128, bias=True)\n",
      "  )\n",
      "  (output): Linear(in_features=128, out_features=10, bias=True)\n",
      "  (dropout): Dropout(p=0.5)\n",
      ")\n"
     ]
    }
   ],
   "source": [
    "model = load_checkpoint_set_model(\"checkpoint.pth\")\n",
    "print(model)"
   ]
  }
 ],
 "metadata": {
  "kernelspec": {
   "display_name": "Python 3",
   "language": "python",
   "name": "python3"
  },
  "language_info": {
   "codemirror_mode": {
    "name": "ipython",
    "version": 3
   },
   "file_extension": ".py",
   "mimetype": "text/x-python",
   "name": "python",
   "nbconvert_exporter": "python",
   "pygments_lexer": "ipython3",
   "version": "3.7.2"
  }
 },
 "nbformat": 4,
 "nbformat_minor": 2
}
