{
 "cells": [
  {
   "cell_type": "markdown",
   "metadata": {},
   "source": [
    "# Neural Networks in PyTorch"
   ]
  },
  {
   "cell_type": "code",
   "execution_count": 1,
   "metadata": {},
   "outputs": [],
   "source": [
    "# import needed packages\n",
    "\n",
    "%matplotlib inline\n",
    "%config InlineBackend.figure_format = 'retina'\n",
    "\n",
    "import numpy as np\n",
    "import torch\n",
    "import matplotlib.pyplot as plt\n",
    "from torchvision import datasets, transforms # MNIST dataset here\n",
    "\n",
    "import helper"
   ]
  },
  {
   "cell_type": "code",
   "execution_count": 10,
   "metadata": {},
   "outputs": [],
   "source": [
    "# Define a transform to normalize the data\n",
    "transform = transforms.Compose([transforms.ToTensor(), transforms.Normalize([0.5],[0.5])])\n",
    "\n",
    "# Download and load train set\n",
    "trainset = datasets.MNIST('MNIST_data/', download=True, train=True, transform=transform)\n",
    "trainloader = torch.utils.data.DataLoader(trainset, batch_size=64, shuffle=True)\n",
    "\n",
    "# Download and load test set\n",
    "testset = datasets.MNIST('MNIST_data/', download=True, train=False, transform=transform)\n",
    "testloader = torch.utils.data.DataLoader(testset, batch_size=64, shuffle=True)"
   ]
  },
  {
   "cell_type": "code",
   "execution_count": 12,
   "metadata": {},
   "outputs": [],
   "source": [
    "dataiter = iter(trainloader)\n",
    "images, labels = dataiter.next()"
   ]
  },
  {
   "cell_type": "code",
   "execution_count": 36,
   "metadata": {},
   "outputs": [
    {
     "data": {
      "text/plain": [
       "Text(0.5, 1.0, 'This is 3')"
      ]
     },
     "execution_count": 36,
     "metadata": {},
     "output_type": "execute_result"
    },
    {
     "data": {
      "image/png": "[encoded data removed]",
      "text/plain": [
       "<Figure size 432x288 with 1 Axes>"
      ]
     },
     "metadata": {
      "image/png": {
       "height": 263,
       "width": 253
      },
      "needs_background": "light"
     },
     "output_type": "display_data"
    }
   ],
   "source": [
    "i = 63\n",
    "\n",
    "plt.imshow(images[i].numpy().squeeze(), cmap='Greys_r')\n",
    "plt.title(f\"This is {labels[i].item()}\")"
   ]
  },
  {
   "cell_type": "markdown",
   "metadata": {},
   "source": [
    "## Building networks with PyTorch\n",
    "\n",
    "Here I'll use PyTorch to build a simple feedfoward network to classify the MNIST images. That is, the network will receive a digit image as input and predict the digit in the image.\n",
    "\n",
    "<img src=\"assets/mlp_mnist.png\" width=600px>\n",
    "\n",
    "To build a neural network with PyTorch, you use the `torch.nn` module. The network itself is a class inheriting from `torch.nn.Module`. You define each of the operations separately, like `nn.Linear(784, 128)` for a fully connected linear layer with 784 inputs and 128 units.\n",
    "\n",
    "The class needs to include a `forward` method that implements the forward pass through the network. In this method, you pass some input tensor `x` through each of the operations you defined earlier. The `torch.nn` module also has functional equivalents for things like ReLUs in `torch.nn.functional`. This module is usually imported as `F`. Then to use a ReLU activation on some layer (which is just a tensor), you'd do `F.relu(x)`. Below are a few different commonly used activation functions.\n",
    "\n",
    "<img src=\"assets/activation.png\" width=700px>\n",
    "\n",
    "So, for this network, I'll build it with three fully connected layers, then a softmax output for predicting classes. The softmax function is similar to the sigmoid in that it squashes inputs between 0 and 1, but it's also normalized so that all the values sum to one like a proper probability distribution."
   ]
  },
  {
   "cell_type": "markdown",
   "metadata": {},
   "source": [
    "### It is time to build a Neural Network :)))"
   ]
  },
  {
   "cell_type": "code",
   "execution_count": 37,
   "metadata": {},
   "outputs": [],
   "source": [
    "# Import some modules from PyTorch\n",
    "from torch import nn \n",
    "import torch.nn.functional as F"
   ]
  },
  {
   "cell_type": "code",
   "execution_count": 38,
   "metadata": {},
   "outputs": [
    {
     "data": {
      "text/plain": [
       "Network(\n",
       "  (fc1): Linear(in_features=784, out_features=128, bias=True)\n",
       "  (fc2): Linear(in_features=128, out_features=64, bias=True)\n",
       "  (fc3): Linear(in_features=64, out_features=10, bias=True)\n",
       ")"
      ]
     },
     "execution_count": 38,
     "metadata": {},
     "output_type": "execute_result"
    }
   ],
   "source": [
    "# First you create a class that iherits from nn.Module\n",
    "class Network(nn.Module):\n",
    "    def __init__(self):\n",
    "        super().__init__() # because of super() we can call whatever method we want from superclass (here we call constructor)\n",
    "        \n",
    "        self.fc1 = nn.Linear(784, 128)\n",
    "        self.fc2 = nn.Linear(128, 64)\n",
    "        self.fc3 = nn.Linear(64, 10)\n",
    "        \n",
    "    def forward(self, x):\n",
    "        \"\"\"\n",
    "        Parameters:\n",
    "        x - PyTorch tensor\n",
    "        \n",
    "        \"\"\"\n",
    "        x = self.fc1(x)\n",
    "        x = F.relu(x)\n",
    "        x = self.fc2(x)\n",
    "        x = F.relu(x)\n",
    "        x = self.fc3(x)\n",
    "        x = F.softmax(x, dim= 1 )\n",
    "        \n",
    "        return x\n",
    "model = Network()\n",
    "model"
   ]
  },
  {
   "cell_type": "markdown",
   "metadata": {},
   "source": [
    "### it is time to initialize weights and bias\n",
    "Generally weights and biases are automatically initialized."
   ]
  },
  {
   "cell_type": "code",
   "execution_count": 44,
   "metadata": {},
   "outputs": [
    {
     "name": "stdout",
     "output_type": "stream",
     "text": [
      "torch.Size([128, 784])\n",
      "Parameter containing:\n",
      "tensor([ 8.7857e-05,  1.2188e-02, -2.9044e-02,  2.8342e-02,  2.7584e-02,\n",
      "        -1.7392e-02, -1.6925e-02,  2.4747e-02,  4.9112e-03,  3.5342e-02,\n",
      "         5.9696e-03, -2.5332e-03,  1.6598e-02,  2.4213e-02, -2.2147e-02,\n",
      "        -2.1251e-03, -4.6490e-03, -2.0988e-02, -7.0309e-03, -3.4989e-02,\n",
      "         3.1955e-02,  2.8234e-02,  2.2238e-02, -1.9791e-02,  2.2130e-02,\n",
      "        -1.7964e-02,  2.1568e-03,  1.3202e-02, -2.3214e-02, -8.0854e-03,\n",
      "         1.2085e-02, -1.2708e-02, -1.8173e-03,  2.5223e-03,  3.3625e-02,\n",
      "        -6.0769e-03,  1.0808e-02,  2.7938e-02, -1.3097e-02, -1.6603e-02,\n",
      "         3.1150e-02, -9.6732e-03, -1.5060e-02,  7.9603e-03,  1.3468e-02,\n",
      "        -2.0695e-02,  3.3627e-02,  8.8708e-03, -4.6857e-05,  7.9650e-03,\n",
      "         1.1668e-02, -3.0162e-02, -3.1440e-02,  1.1115e-02, -1.9423e-02,\n",
      "         2.5197e-02,  1.9556e-03, -1.2896e-03, -1.7629e-02,  2.1118e-02,\n",
      "        -4.8061e-03, -1.7479e-03, -2.6653e-02, -2.2557e-02, -4.7809e-03,\n",
      "         3.6105e-03, -2.8684e-02, -1.2933e-03, -2.9364e-02,  1.7498e-02,\n",
      "        -2.2011e-02,  1.8810e-02, -3.3530e-02, -1.4871e-02,  1.3455e-02,\n",
      "        -1.0871e-02,  1.0813e-02,  2.0452e-03,  2.6883e-02, -7.4407e-03,\n",
      "        -3.3578e-02, -1.7884e-02, -5.2529e-03,  3.2503e-02,  4.8301e-03,\n",
      "        -1.9805e-03, -2.2745e-02,  2.4595e-02, -1.7573e-02,  3.4909e-02,\n",
      "         1.9682e-02, -2.8473e-02,  3.4491e-02, -3.3024e-02, -1.5328e-02,\n",
      "        -1.2901e-04,  1.9597e-03,  3.4190e-02, -1.4606e-02,  3.1777e-02,\n",
      "         3.4008e-02,  3.4348e-02,  2.6327e-02, -1.2357e-02, -3.3905e-02,\n",
      "        -2.7415e-02,  1.1911e-02,  1.6981e-02, -2.4991e-03, -3.0942e-02,\n",
      "         2.8659e-04, -8.4860e-03, -3.0293e-03, -4.9667e-03, -2.5304e-02,\n",
      "         3.1398e-02, -2.7805e-02,  3.0726e-02, -2.2368e-02,  6.0408e-03,\n",
      "         8.3611e-03, -1.0642e-02, -1.8473e-02, -1.7279e-02,  2.7088e-02,\n",
      "        -3.1307e-02,  5.8555e-04, -2.3399e-02], requires_grad=True)\n"
     ]
    }
   ],
   "source": [
    "print(model.fc1.weight.shape)\n",
    "print(model.fc1.bias)"
   ]
  },
  {
   "cell_type": "markdown",
   "metadata": {},
   "source": [
    " But there is an option to customize that."
   ]
  },
  {
   "cell_type": "code",
   "execution_count": 45,
   "metadata": {},
   "outputs": [
    {
     "data": {
      "text/plain": [
       "tensor([0., 0., 0., 0., 0., 0., 0., 0., 0., 0., 0., 0., 0., 0., 0., 0., 0., 0., 0., 0., 0., 0., 0., 0.,\n",
       "        0., 0., 0., 0., 0., 0., 0., 0., 0., 0., 0., 0., 0., 0., 0., 0., 0., 0., 0., 0., 0., 0., 0., 0.,\n",
       "        0., 0., 0., 0., 0., 0., 0., 0., 0., 0., 0., 0., 0., 0., 0., 0., 0., 0., 0., 0., 0., 0., 0., 0.,\n",
       "        0., 0., 0., 0., 0., 0., 0., 0., 0., 0., 0., 0., 0., 0., 0., 0., 0., 0., 0., 0., 0., 0., 0., 0.,\n",
       "        0., 0., 0., 0., 0., 0., 0., 0., 0., 0., 0., 0., 0., 0., 0., 0., 0., 0., 0., 0., 0., 0., 0., 0.,\n",
       "        0., 0., 0., 0., 0., 0., 0., 0.])"
      ]
     },
     "execution_count": 45,
     "metadata": {},
     "output_type": "execute_result"
    }
   ],
   "source": [
    "# Set all biases for first layer to 0\n",
    "model.fc1.bias.data.fill_(0)"
   ]
  },
  {
   "cell_type": "code",
   "execution_count": 54,
   "metadata": {},
   "outputs": [
    {
     "data": {
      "text/plain": [
       "tensor([[-0.0235, -0.0066,  0.0115,  ..., -0.0081, -0.0129,  0.0021],\n",
       "        [-0.0005, -0.0038, -0.0049,  ...,  0.0216,  0.0107, -0.0020],\n",
       "        [ 0.0001, -0.0032, -0.0002,  ..., -0.0115, -0.0077,  0.0160],\n",
       "        ...,\n",
       "        [ 0.0043,  0.0009,  0.0034,  ...,  0.0048, -0.0072,  0.0018],\n",
       "        [ 0.0064,  0.0067, -0.0204,  ..., -0.0086,  0.0097,  0.0085],\n",
       "        [ 0.0104, -0.0051,  0.0070,  ..., -0.0045, -0.0118, -0.0098]])"
      ]
     },
     "execution_count": 54,
     "metadata": {},
     "output_type": "execute_result"
    }
   ],
   "source": [
    "# Normalize all random weights for alayer 1\n",
    "model.fc1.weight.data.normal_(std=0.01)"
   ]
  },
  {
   "cell_type": "markdown",
   "metadata": {},
   "source": [
    "### Forward pass"
   ]
  },
  {
   "cell_type": "code",
   "execution_count": 65,
   "metadata": {},
   "outputs": [],
   "source": [
    "images, labels = next(iter(trainloader))"
   ]
  },
  {
   "cell_type": "code",
   "execution_count": 66,
   "metadata": {},
   "outputs": [
    {
     "data": {
      "text/plain": [
       "torch.Size([64, 1, 28, 28])"
      ]
     },
     "execution_count": 66,
     "metadata": {},
     "output_type": "execute_result"
    }
   ],
   "source": [
    "images.shape"
   ]
  },
  {
   "cell_type": "code",
   "execution_count": 67,
   "metadata": {},
   "outputs": [
    {
     "data": {
      "image/png": "[encoded data removed]",
      "text/plain": [
       "<Figure size 432x648 with 2 Axes>"
      ]
     },
     "metadata": {
      "image/png": {
       "height": 226,
       "width": 423
      },
      "needs_background": "light"
     },
     "output_type": "display_data"
    }
   ],
   "source": [
    "# here we resize current batch in such way that we change input image(matrix) into vector\n",
    "images.resize_(images.shape[0],images.shape[1], images.shape[2] * images.shape[3])\n",
    "\n",
    "# here we call method forward on first image from batch\n",
    "probabilities = model.forward(images[0])\n",
    "\n",
    "# now we use helper function written by teacher to display probability distribution\n",
    "# we need to convert it back to 28 x28 in order to display it so we use .view() method which COPIES tht tensor an resizes it\n",
    "# .view() is the same as .resize_(), but the latter one resizes IN-PLACE where the first COPIES Torch Tensor\n",
    "helper.view_classify(images[0].view(1, 28, 28), probabilities)"
   ]
  },
  {
   "cell_type": "markdown",
   "metadata": {},
   "source": [
    "So for now netowrk has no idea what is that digit. It is because we did not start training yet and the weigts are from normal distribution for now."
   ]
  },
  {
   "cell_type": "markdown",
   "metadata": {},
   "source": [
    "### nn.Sequential Class - convienient way to build networks"
   ]
  },
  {
   "cell_type": "code",
   "execution_count": 77,
   "metadata": {},
   "outputs": [
    {
     "name": "stdout",
     "output_type": "stream",
     "text": [
      "Sequential(\n",
      "  (0): Linear(in_features=784, out_features=128, bias=True)\n",
      "  (1): ReLU()\n",
      "  (2): Linear(in_features=128, out_features=64, bias=True)\n",
      "  (3): ReLU()\n",
      "  (4): Linear(in_features=64, out_features=10, bias=True)\n",
      "  (5): Softmax()\n",
      ")\n"
     ]
    },
    {
     "data": {
      "image/png": "[encoded data removed]",
      "text/plain": [
       "<Figure size 432x648 with 2 Axes>"
      ]
     },
     "metadata": {
      "image/png": {
       "height": 226,
       "width": 423
      },
      "needs_background": "light"
     },
     "output_type": "display_data"
    }
   ],
   "source": [
    "#Defining hyperparameters\n",
    "input_size = 784\n",
    "hidden_size = [128, 64]\n",
    "output_size = 10\n",
    "\n",
    "model = nn.Sequential(nn.Linear(input_size, hidden_size[0]),\n",
    "                      nn.ReLU(),\n",
    "                      nn.Linear(hidden_size[0], hidden_size[1]),\n",
    "                      nn.ReLU(),\n",
    "                      nn.Linear(hidden_size[1], output_size),\n",
    "                      nn.Softmax(dim=1))\n",
    "print(model)\n",
    "\n",
    "# Forward pass through the netwrok \n",
    "images, labels = next(iter(trainloader))\n",
    "images.resize_(images.shape[0], 1, 784)\n",
    "ps = model.forward(images[0])\n",
    "helper.view_classify(images[0].view(1,28,28), ps)"
   ]
  },
  {
   "cell_type": "code",
   "execution_count": 79,
   "metadata": {},
   "outputs": [
    {
     "data": {
      "text/plain": [
       "Linear(in_features=64, out_features=10, bias=True)"
      ]
     },
     "execution_count": 79,
     "metadata": {},
     "output_type": "execute_result"
    }
   ],
   "source": [
    "# We can pass order dictionary \n",
    "from collections import OrderedDict\n",
    "model = nn.Sequential(OrderedDict([\n",
    "    (\"fc1\", nn.Linear(input_size, hidden_size[0])),\n",
    "    (\"relu1\",nn.ReLU()),\n",
    "    (\"fc2\", nn.Linear(hidden_size[0], hidden_size[1])),\n",
    "    (\"relu2\", nn.ReLU()),\n",
    "    (\"output\", nn.Linear(hidden_size[1], output_size)),\n",
    "    (\"softmax\", nn.Softmax(dim=1))\n",
    "    \n",
    "]))\n",
    "\n",
    "model.output"
   ]
  },
  {
   "cell_type": "code",
   "execution_count": null,
   "metadata": {},
   "outputs": [],
   "source": [
    "# Excercise\n"
   ]
  }
 ],
 "metadata": {
  "kernelspec": {
   "display_name": "Python 3",
   "language": "python",
   "name": "python3"
  },
  "language_info": {
   "codemirror_mode": {
    "name": "ipython",
    "version": 3
   },
   "file_extension": ".py",
   "mimetype": "text/x-python",
   "name": "python",
   "nbconvert_exporter": "python",
   "pygments_lexer": "ipython3",
   "version": "3.7.2"
  }
 },
 "nbformat": 4,
 "nbformat_minor": 2
}
